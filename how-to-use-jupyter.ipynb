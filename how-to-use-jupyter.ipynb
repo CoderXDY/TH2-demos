{
 "cells": [
  {
   "cell_type": "markdown",
   "metadata": {},
   "source": [
    "# 如何在天河二号上使用 Jupyter "
   ]
  },
  {
   "cell_type": "markdown",
   "metadata": {},
   "source": [
    "* 说明\n",
    "\n",
    "在天河二号上使用Jupyter ， 目前需要登录 ln6 的环境 ； 以后可能其他的登陆节点也可以使用，需要这个登录节点具有可以直接访问的IP 。"
   ]
  },
  {
   "cell_type": "markdown",
   "metadata": {},
   "source": [
    "* 环境加载\n",
    "\n",
    "这里是直接通过脚本来加载。其实就是设置环境变量 PATH .\n",
    "\n",
    "> 目前最新版本的脚本已经能够自动调用另一个脚本来帮助设置密码了"
   ]
  },
  {
   "cell_type": "code",
   "execution_count": 2,
   "metadata": {
    "collapsed": false
   },
   "outputs": [
    {
     "name": "stdout",
     "output_type": "stream",
     "text": [
      "Installing IPython kernel spec\r\n"
     ]
    }
   ],
   "source": [
    "source /WORK/app/jupyter/set.sh\n"
   ]
  },
  {
   "cell_type": "code",
   "execution_count": 3,
   "metadata": {
    "collapsed": false
   },
   "outputs": [
    {
     "name": "stdout",
     "output_type": "stream",
     "text": [
      "/WORK/app/jupyter/pyenv/versions/3.5.1/bin/jupyter\r\n"
     ]
    }
   ],
   "source": [
    "which jupyter "
   ]
  },
  {
   "cell_type": "markdown",
   "metadata": {},
   "source": [
    "如果一切顺利，这里应该显示上面这样的地址"
   ]
  },
  {
   "cell_type": "markdown",
   "metadata": {},
   "source": [
    "* 启动\n",
    "\n",
    "现在就可以用jupyter 的命令启动自己的Jupyter 环境了 ， 或者直接使用 封装好的脚本 ， 这里最好自己指定好端口号 。\n"
   ]
  },
  {
   "cell_type": "code",
   "execution_count": 4,
   "metadata": {
    "collapsed": false
   },
   "outputs": [
    {
     "name": "stdout",
     "output_type": "stream",
     "text": [
      "you need to set a port \r\n"
     ]
    }
   ],
   "source": [
    "/WORK/app/jupyter/run.sh  "
   ]
  },
  {
   "cell_type": "markdown",
   "metadata": {},
   "source": [
    "/WORK/app/jupyter/run.sh  脚本需要一个参数，端口号，请使用 高位的端口号，正常的使用可以这样：\n",
    "\n",
    "`\n",
    "/WORK/app/jupyter/run.sh  9981 \n",
    "`\n",
    "\n",
    "这里由于已经启动了jupyter 环境就不演示了。"
   ]
  },
  {
   "cell_type": "markdown",
   "metadata": {},
   "source": [
    "* 访问\n",
    "\n",
    "这时候就可以通过浏览器访问自己启动的Jupyter 环境了 ：\n",
    "\n",
    "网址是 登陆节点对应的 \"VPN IP \":\"上面启动的端口号\" 如  http://172.16.23.16:9981/ "
   ]
  },
  {
   "cell_type": "markdown",
   "metadata": {},
   "source": [
    "* 密码\n",
    "\n",
    "第一次启动时，set.sh 脚本会隐式调用此脚本来让用户创建密码。\n",
    "\n",
    "以后登录时，用户可以直接用以前的密码，不用再重设。\n",
    "\n",
    "如果需要重设密码，再次调用此密码即可。"
   ]
  },
  {
   "cell_type": "code",
   "execution_count": null,
   "metadata": {
    "collapsed": true
   },
   "outputs": [],
   "source": [
    "/WORK/app/jupyter/genpw.py "
   ]
  },
  {
   "cell_type": "markdown",
   "metadata": {},
   "source": [
    "* 说明\n",
    "\n",
    "~~目前此文档中说明的设置流程没有指定 密码访问登陆，也没有 SSL 的加密设置；所以用这种方法启动了Jupyter 后，所有的用户其实都可以通过对应的端口来访问\n",
    "\n",
    "~~关于密码的设置方法，会在以后更新。或者您写好了发给我 。\n",
    "\n",
    "目前已经添加了关于密码的设置。但尚未自动添加SSL 的设置 。如有需要您可以自行尝试SSL 功能的添加调用，可行的话欢迎联系我更新 。\n"
   ]
  },
  {
   "cell_type": "code",
   "execution_count": null,
   "metadata": {
    "collapsed": true
   },
   "outputs": [],
   "source": []
  }
 ],
 "metadata": {
  "kernelspec": {
   "display_name": "Bash",
   "language": "bash",
   "name": "bash"
  },
  "language_info": {
   "codemirror_mode": "shell",
   "file_extension": ".sh",
   "mimetype": "text/x-sh",
   "name": "bash"
  }
 },
 "nbformat": 4,
 "nbformat_minor": 0
}
